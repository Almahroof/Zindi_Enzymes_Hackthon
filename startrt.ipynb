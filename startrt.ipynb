{
 "cells": [
  {
   "cell_type": "code",
   "execution_count": 1,
   "id": "b77f1005",
   "metadata": {},
   "outputs": [
    {
     "name": "stdout",
     "output_type": "stream",
     "text": [
      "Using device: cuda\n"
     ]
    }
   ],
   "source": [
    "import pandas as pd\n",
    "import torch\n",
    "import torch.nn as nn\n",
    "import torch.nn.functional as F\n",
    "from torch.utils.data import Dataset, DataLoader\n",
    "import matplotlib.pyplot as plt\n",
    "from sklearn.model_selection import train_test_split\n",
    "import numpy as np\n",
    "\n",
    "device = torch.device(\"cuda\" if torch.cuda.is_available() else \"cpu\")\n",
    "print(\"Using device:\", device)\n"
   ]
  },
  {
   "cell_type": "code",
   "execution_count": 2,
   "id": "e315ac0e",
   "metadata": {},
   "outputs": [],
   "source": [
    "class ProteinTokenizer:\n",
    "    def __init__(self):\n",
    "        self.amino_acids = [\n",
    "            'A', 'R', 'N', 'D', 'C', 'E', 'Q', 'G', 'H', 'I',\n",
    "            'L', 'K', 'M', 'F', 'P', 'S', 'T', 'W', 'Y', 'V'\n",
    "        ]\n",
    "        self.vocab = {aa: idx for idx, aa in enumerate(self.amino_acids)}\n",
    "        self.vocab['PAD'] = len(self.vocab)\n",
    "        self.vocab['UNK'] = len(self.vocab)\n",
    "        self.pad_token_id = self.vocab['PAD']\n",
    "        self.unk_token_id = self.vocab['UNK']\n",
    "        self.id_to_token = {idx: token for token, idx in self.vocab.items()}\n",
    "\n",
    "    def encode(self, seq):\n",
    "        return [self.vocab.get(aa, self.unk_token_id) for aa in seq]\n",
    "\n",
    "    def pad(self, ids, max_len):\n",
    "        return ids[:max_len] + [self.pad_token_id] * (max_len - len(ids[:max_len]))\n"
   ]
  },
  {
   "cell_type": "code",
   "execution_count": 3,
   "id": "e3b396aa",
   "metadata": {},
   "outputs": [],
   "source": [
    "class ProteinDataset(Dataset):\n",
    "    def __init__(self, df, tokenizer, max_len=512, is_test=False):\n",
    "        self.tokenizer = tokenizer\n",
    "        self.seqs = df['SEQUENCE'].values\n",
    "        self.seq_ids = df['SEQUENCE_ID'].values\n",
    "        self.max_len = max_len\n",
    "        self.is_test = is_test\n",
    "        self.labels = None\n",
    "\n",
    "        if not is_test:\n",
    "            self.labels = df['LABEL'].astype('category').cat.codes.values\n",
    "            self.label_map = dict(enumerate(df['LABEL'].astype('category').cat.categories))\n",
    "\n",
    "    def __len__(self):\n",
    "        return len(self.seqs)\n",
    "\n",
    "    def __getitem__(self, idx):\n",
    "        tokens = self.tokenizer.encode(self.seqs[idx])\n",
    "        padded = self.tokenizer.pad(tokens, self.max_len)\n",
    "        padded = torch.tensor(padded, dtype=torch.long)\n",
    "\n",
    "        if self.is_test:\n",
    "            return padded, self.seq_ids[idx]\n",
    "        else:\n",
    "            label = torch.tensor(self.labels[idx], dtype=torch.long)\n",
    "            return padded, label\n"
   ]
  },
  {
   "cell_type": "code",
   "execution_count": 4,
   "id": "c61d2cf5",
   "metadata": {},
   "outputs": [
    {
     "data": {
      "application/vnd.microsoft.datawrangler.viewer.v0+json": {
       "columns": [
        {
         "name": "index",
         "rawType": "int64",
         "type": "integer"
        },
        {
         "name": "SEQUENCE_ID",
         "rawType": "object",
         "type": "string"
        },
        {
         "name": "SEQUENCE",
         "rawType": "object",
         "type": "string"
        },
        {
         "name": "CREATURE",
         "rawType": "object",
         "type": "string"
        },
        {
         "name": "LABEL",
         "rawType": "object",
         "type": "string"
        }
       ],
       "ref": "b10991ba-80ec-4dc8-b4c1-a5200eb4a00d",
       "rows": [
        [
         "0",
         "00011UBJ",
         "MPWQELSITVPHEYVEPISYLFGRYGKGVSTELAGNGQVLLRTYLTTGSRQRMARIDVGVRLVGAIESIGDLIVRELPDDEDWMNSWKSHFKILRVGKRLVIKPTWLELDETIKLDDIVIELDPGIAFGTGYHPTTDTCMQAMEQHITPGMAVLDLGTGSGILAITAMKLGAGKVTALDIDSQAVSAARRNFKRTGISKQIRLGQGSVPHPTAPAAEFDLAVANISARGVVDRCPFILTALKPGALFIASGLLATQKPEVANAVEPLGFSLVSEWPQEEWVTLLYRAPDSPIVASE",
         "creature9",
         "class11"
        ],
        [
         "1",
         "0001HZ3P",
         "MGKLVIGSRGSELALWQANHIKERLKKECLIESEIQIVKTKGDKILDTPLNKIGGKGLFTKELEELLLKGEIDLAVHSLKDVPVVFEKGLDLACITKRADVRDTFLSVKFPDLMSLPEGAKVGTTSLRRSMQLKLKRQDLDTESLRGNVQTRLKKLECGEFDAIILAEAGLCRLNIQGAKYRKAFSVEEMIPSMGQGALGVEMLKNHKHFATLQKLNDEESAFCCRLEREFIKGLNGGCQIPIGVHASLMGDRVKIQAVLGLPNGKEVITKEKQGDKTKAFDLIQELLEEFLQSGAKEILEKAQLF",
         "creature3",
         "class13"
        ],
        [
         "2",
         "0003NJDO",
         "MFIVAVLMLAFLIFVHELGHFTIARICGVKVEVFSIGFGKKLCFFKLFGTQFALSLIPLGGYVKLKGMDKEEDGTNETADDSYAQKSPFQKLWILFGGAFFNFLFAILVYFFLALSGEKVLLPIIGGLDKNALEAGLLKGDKILSINHEKIASFREIRSVVARARGELVLEIERNNQILEKRLTPKIVAVISESNDPNEMIRYKIIGIKPDMQKTGIVSYSLIQAFKQALSRFKEGVVLIVDSLRRLIMGSASVKELSGVIGIVGALSHANSLSMLLLFGAFLSINLGILNLLPIPALDGAQMLGVVFKNIFHITLPTPIQNALWLAGVGFLVFIMFLGLFNDITRLL",
         "creature3",
         "class16"
        ],
        [
         "3",
         "0003XVE3",
         "MKNTSLSTTLTMNDTIAAIATPLGKGAISIIKISGHNALNILKQLTQKQDFTPRYAYVCDIFSNGVLLDKALVIYFKAPYSFTGEDVCEIQCHGSPLLAQNILQACLNLGARLAKAGEFSKKAFLNHKMDLSEIEASVQLILCEDESVLNALARQLKGELKIFIEETRNNLLKLLASSEVLIDYSEEDIPSDFLKEVSFNLEKQIASFKDLLDFSNAQKQRNKGHALSIVGKPNAGKSSLLNAMLLEERALVSDIKGTTRDTIEEVIELQGHKVRLIDTAGIRESADKIERLGIEKSLKSLENCDLILGVFDLSKPLEKEDFNLMDTLNRAKKPCIVVLNKNDLTPKLELEILESYLKIPYSLLKTNTLNSKACLKDLSQKISAFFPKLDTQNKLLLTSIAQTTALENAITELQNAKNHLETLELFSYHILSAIENLNLLTRPYETSQMLDSMFSEFCLGK",
         "creature3",
         "class12"
        ],
        [
         "4",
         "00049BS0",
         "MGNRLTKIYTKTGDSGLTGLADGSRTEKDSLRIFVIGDVDELNSLLGLLIAINIDEEIKACLLDIQNILFDLGGELAIPDSEVITEARVQYLEKIIDQYNASLPPLKEFILPGGSVPAAVCHTARAVCRRTERQLVGLSREISINNVSLKFLNRLSDLLFIFARTLALSEGGKEIYWQSERIKD",
         "creature8",
         "class13"
        ]
       ],
       "shape": {
        "columns": 4,
        "rows": 5
       }
      },
      "text/html": [
       "<div>\n",
       "<style scoped>\n",
       "    .dataframe tbody tr th:only-of-type {\n",
       "        vertical-align: middle;\n",
       "    }\n",
       "\n",
       "    .dataframe tbody tr th {\n",
       "        vertical-align: top;\n",
       "    }\n",
       "\n",
       "    .dataframe thead th {\n",
       "        text-align: right;\n",
       "    }\n",
       "</style>\n",
       "<table border=\"1\" class=\"dataframe\">\n",
       "  <thead>\n",
       "    <tr style=\"text-align: right;\">\n",
       "      <th></th>\n",
       "      <th>SEQUENCE_ID</th>\n",
       "      <th>SEQUENCE</th>\n",
       "      <th>CREATURE</th>\n",
       "      <th>LABEL</th>\n",
       "    </tr>\n",
       "  </thead>\n",
       "  <tbody>\n",
       "    <tr>\n",
       "      <th>0</th>\n",
       "      <td>00011UBJ</td>\n",
       "      <td>MPWQELSITVPHEYVEPISYLFGRYGKGVSTELAGNGQVLLRTYLT...</td>\n",
       "      <td>creature9</td>\n",
       "      <td>class11</td>\n",
       "    </tr>\n",
       "    <tr>\n",
       "      <th>1</th>\n",
       "      <td>0001HZ3P</td>\n",
       "      <td>MGKLVIGSRGSELALWQANHIKERLKKECLIESEIQIVKTKGDKIL...</td>\n",
       "      <td>creature3</td>\n",
       "      <td>class13</td>\n",
       "    </tr>\n",
       "    <tr>\n",
       "      <th>2</th>\n",
       "      <td>0003NJDO</td>\n",
       "      <td>MFIVAVLMLAFLIFVHELGHFTIARICGVKVEVFSIGFGKKLCFFK...</td>\n",
       "      <td>creature3</td>\n",
       "      <td>class16</td>\n",
       "    </tr>\n",
       "    <tr>\n",
       "      <th>3</th>\n",
       "      <td>0003XVE3</td>\n",
       "      <td>MKNTSLSTTLTMNDTIAAIATPLGKGAISIIKISGHNALNILKQLT...</td>\n",
       "      <td>creature3</td>\n",
       "      <td>class12</td>\n",
       "    </tr>\n",
       "    <tr>\n",
       "      <th>4</th>\n",
       "      <td>00049BS0</td>\n",
       "      <td>MGNRLTKIYTKTGDSGLTGLADGSRTEKDSLRIFVIGDVDELNSLL...</td>\n",
       "      <td>creature8</td>\n",
       "      <td>class13</td>\n",
       "    </tr>\n",
       "  </tbody>\n",
       "</table>\n",
       "</div>"
      ],
      "text/plain": [
       "  SEQUENCE_ID                                           SEQUENCE   CREATURE  \\\n",
       "0    00011UBJ  MPWQELSITVPHEYVEPISYLFGRYGKGVSTELAGNGQVLLRTYLT...  creature9   \n",
       "1    0001HZ3P  MGKLVIGSRGSELALWQANHIKERLKKECLIESEIQIVKTKGDKIL...  creature3   \n",
       "2    0003NJDO  MFIVAVLMLAFLIFVHELGHFTIARICGVKVEVFSIGFGKKLCFFK...  creature3   \n",
       "3    0003XVE3  MKNTSLSTTLTMNDTIAAIATPLGKGAISIIKISGHNALNILKQLT...  creature3   \n",
       "4    00049BS0  MGNRLTKIYTKTGDSGLTGLADGSRTEKDSLRIFVIGDVDELNSLL...  creature8   \n",
       "\n",
       "     LABEL  \n",
       "0  class11  \n",
       "1  class13  \n",
       "2  class16  \n",
       "3  class12  \n",
       "4  class13  "
      ]
     },
     "execution_count": 4,
     "metadata": {},
     "output_type": "execute_result"
    }
   ],
   "source": [
    "train_df = pd.read_csv(\"Train.csv\")\n",
    "train_df.head()\n"
   ]
  },
  {
   "cell_type": "code",
   "execution_count": 5,
   "id": "977d40f9",
   "metadata": {},
   "outputs": [],
   "source": [
    "train_data, val_data = train_test_split(train_df, test_size=0.1, stratify=train_df['LABEL'])\n",
    "\n",
    "tokenizer = ProteinTokenizer()\n",
    "max_len = 512\n",
    "batch_size = 64\n",
    "\n",
    "train_ds = ProteinDataset(train_data, tokenizer, max_len)\n",
    "val_ds = ProteinDataset(val_data, tokenizer, max_len)\n",
    "\n",
    "train_loader = DataLoader(train_ds, batch_size=batch_size, shuffle=True)\n",
    "val_loader = DataLoader(val_ds, batch_size=batch_size)\n"
   ]
  },
  {
   "cell_type": "code",
   "execution_count": 6,
   "id": "6231e769",
   "metadata": {},
   "outputs": [],
   "source": [
    "class ProteinCNN(nn.Module):\n",
    "    def __init__(self, vocab_size, embed_dim=128, num_classes=20, kernel_sizes=[3, 5, 7], num_filters=64, dropout=0.3):\n",
    "        super(ProteinCNN, self).__init__()\n",
    "        self.embedding = nn.Embedding(vocab_size, embed_dim, padding_idx=vocab_size - 2)\n",
    "        self.convs = nn.ModuleList([\n",
    "            nn.Conv1d(embed_dim, num_filters, k) for k in kernel_sizes\n",
    "        ])\n",
    "        self.fc = nn.Linear(num_filters * len(kernel_sizes), num_classes)\n",
    "        self.dropout = nn.Dropout(dropout)\n",
    "\n",
    "    def forward(self, x):\n",
    "        x = self.embedding(x).permute(0, 2, 1)  # (B, C, L)\n",
    "        convs = [F.relu(conv(x)) for conv in self.convs]\n",
    "        pooled = [F.max_pool1d(c, c.shape[2]).squeeze(2) for c in convs]\n",
    "        out = self.dropout(torch.cat(pooled, dim=1))\n",
    "        return self.fc(out)\n"
   ]
  },
  {
   "cell_type": "code",
   "execution_count": 6,
   "id": "5fbbc4d6",
   "metadata": {},
   "outputs": [],
   "source": [
    "import torch\n",
    "import torch.nn as nn\n",
    "import torch.nn.functional as F\n",
    "\n",
    "class DeepProteinCNN(nn.Module):\n",
    "    def __init__(self, vocab_size, embed_dim=128, num_classes=20, kernel_sizes=[3, 5, 7], num_filters=64, dropout=0.3):\n",
    "        super(DeepProteinCNN, self).__init__()\n",
    "        self.embedding = nn.Embedding(vocab_size, embed_dim, padding_idx=vocab_size - 2)\n",
    "\n",
    "        # Two stacked Conv1D layers per kernel size\n",
    "        self.conv_blocks = nn.ModuleList([\n",
    "            nn.Sequential(\n",
    "                nn.Conv1d(embed_dim, num_filters, kernel_size=k, padding=k//2),\n",
    "                nn.BatchNorm1d(num_filters),\n",
    "                nn.ReLU(),\n",
    "                nn.Conv1d(num_filters, num_filters, kernel_size=k, padding=k//2),\n",
    "                nn.BatchNorm1d(num_filters),\n",
    "                nn.ReLU(),\n",
    "            )\n",
    "            for k in kernel_sizes\n",
    "        ])\n",
    "\n",
    "        self.dropout = nn.Dropout(dropout)\n",
    "        self.fc = nn.Linear(num_filters * len(kernel_sizes), num_classes)\n",
    "\n",
    "    def forward(self, x):\n",
    "        x = self.embedding(x).permute(0, 2, 1)  # (B, C, L)\n",
    "        convs = [block(x) for block in self.conv_blocks]  # list of (B, num_filters, L)\n",
    "        pooled = [F.max_pool1d(c, kernel_size=c.shape[2]).squeeze(2) for c in convs]\n",
    "        out = torch.cat(pooled, dim=1)\n",
    "        out = self.dropout(out)\n",
    "        return self.fc(out)\n"
   ]
  },
  {
   "cell_type": "code",
   "execution_count": 8,
   "id": "7b87b400",
   "metadata": {},
   "outputs": [
    {
     "name": "stdout",
     "output_type": "stream",
     "text": [
      "Epoch 1 | Train Acc: 76.70% | Val Acc: 94.16%\n",
      "Epoch 2 | Train Acc: 91.85% | Val Acc: 95.87%\n",
      "Epoch 3 | Train Acc: 93.44% | Val Acc: 96.40%\n",
      "Epoch 4 | Train Acc: 94.23% | Val Acc: 96.73%\n",
      "Epoch 5 | Train Acc: 94.70% | Val Acc: 96.92%\n",
      "Epoch 6 | Train Acc: 95.03% | Val Acc: 97.05%\n",
      "Epoch 7 | Train Acc: 95.25% | Val Acc: 97.18%\n",
      "Epoch 8 | Train Acc: 95.51% | Val Acc: 97.20%\n",
      "Epoch 9 | Train Acc: 95.68% | Val Acc: 97.34%\n",
      "Epoch 10 | Train Acc: 95.82% | Val Acc: 97.38%\n"
     ]
    }
   ],
   "source": [
    "model = DeepProteinCNN(vocab_size=len(tokenizer.vocab)).to(device)\n",
    "criterion = nn.CrossEntropyLoss()\n",
    "optimizer = torch.optim.Adam(model.parameters(), lr=1e-3)\n",
    "\n",
    "train_losses, val_losses = [], []\n",
    "\n",
    "for epoch in range(10):\n",
    "    model.train()\n",
    "    total_loss = 0\n",
    "    correct, total = 0, 0\n",
    "    for x, y in train_loader:\n",
    "        x, y = x.to(device), y.to(device)\n",
    "        optimizer.zero_grad()\n",
    "        out = model(x)\n",
    "        loss = criterion(out, y)\n",
    "        loss.backward()\n",
    "        optimizer.step()\n",
    "\n",
    "        total_loss += loss.item()\n",
    "        _, pred = out.max(1)\n",
    "        correct += pred.eq(y).sum().item()\n",
    "        total += y.size(0)\n",
    "\n",
    "    train_acc = 100. * correct / total\n",
    "    train_losses.append(total_loss / len(train_loader))\n",
    "\n",
    "    # Validation\n",
    "    model.eval()\n",
    "    val_loss = 0\n",
    "    correct, total = 0, 0\n",
    "    with torch.no_grad():\n",
    "        for x, y in val_loader:\n",
    "            x, y = x.to(device), y.to(device)\n",
    "            out = model(x)\n",
    "            loss = criterion(out, y)\n",
    "            val_loss += loss.item()\n",
    "            _, pred = out.max(1)\n",
    "            correct += pred.eq(y).sum().item()\n",
    "            total += y.size(0)\n",
    "\n",
    "    val_acc = 100. * correct / total\n",
    "    val_losses.append(val_loss / len(val_loader))\n",
    "\n",
    "    print(f\"Epoch {epoch+1} | Train Acc: {train_acc:.2f}% | Val Acc: {val_acc:.2f}%\")\n"
   ]
  },
  {
   "cell_type": "code",
   "execution_count": 9,
   "id": "299e8a45",
   "metadata": {},
   "outputs": [
    {
     "data": {
      "image/png": "[encoded data removed]",
      "text/plain": [
       "<Figure size 640x480 with 1 Axes>"
      ]
     },
     "metadata": {},
     "output_type": "display_data"
    }
   ],
   "source": [
    "plt.plot(train_losses, label='Train Loss')\n",
    "plt.plot(val_losses, label='Val Loss')\n",
    "plt.legend()\n",
    "plt.xlabel(\"Epoch\")\n",
    "plt.ylabel(\"Loss\")\n",
    "plt.title(\"Training Curve\")\n",
    "plt.show()\n"
   ]
  },
  {
   "cell_type": "code",
   "execution_count": 2,
   "id": "774578a0",
   "metadata": {},
   "outputs": [
    {
     "ename": "NameError",
     "evalue": "name 'pd' is not defined",
     "output_type": "error",
     "traceback": [
      "\u001b[0;31m---------------------------------------------------------------------------\u001b[0m",
      "\u001b[0;31mNameError\u001b[0m                                 Traceback (most recent call last)",
      "Cell \u001b[0;32mIn[2], line 1\u001b[0m\n\u001b[0;32m----> 1\u001b[0m test_df \u001b[38;5;241m=\u001b[39m \u001b[43mpd\u001b[49m\u001b[38;5;241m.\u001b[39mread_csv(\u001b[38;5;124m\"\u001b[39m\u001b[38;5;124mTest.csv\u001b[39m\u001b[38;5;124m\"\u001b[39m)\n\u001b[1;32m      2\u001b[0m test_ds \u001b[38;5;241m=\u001b[39m ProteinDataset(test_df, tokenizer, max_len, is_test\u001b[38;5;241m=\u001b[39m\u001b[38;5;28;01mTrue\u001b[39;00m)\n\u001b[1;32m      3\u001b[0m test_loader \u001b[38;5;241m=\u001b[39m DataLoader(test_ds, batch_size\u001b[38;5;241m=\u001b[39mbatch_size)\n",
      "\u001b[0;31mNameError\u001b[0m: name 'pd' is not defined"
     ]
    }
   ],
   "source": [
    "test_df = pd.read_csv(\"Test.csv\")\n",
    "test_ds = ProteinDataset(test_df, tokenizer, max_len, is_test=True)\n",
    "test_loader = DataLoader(test_ds, batch_size=batch_size)\n",
    "\n",
    "model.eval()\n",
    "all_preds, all_ids = [], []\n",
    "\n",
    "with torch.no_grad():\n",
    "    for x, ids in test_loader:\n",
    "        x = x.to(device)\n",
    "        out = model(x)\n",
    "        _, pred = out.max(1)\n",
    "        all_preds.extend(pred.cpu().numpy())\n",
    "        all_ids.extend(ids)\n"
   ]
  },
  {
   "cell_type": "code",
   "execution_count": 1,
   "id": "e8e9bdb8",
   "metadata": {},
   "outputs": [
    {
     "ename": "NameError",
     "evalue": "name 'train_ds' is not defined",
     "output_type": "error",
     "traceback": [
      "\u001b[0;31m---------------------------------------------------------------------------\u001b[0m",
      "\u001b[0;31mNameError\u001b[0m                                 Traceback (most recent call last)",
      "Cell \u001b[0;32mIn[1], line 1\u001b[0m\n\u001b[0;32m----> 1\u001b[0m label_map \u001b[38;5;241m=\u001b[39m \u001b[43mtrain_ds\u001b[49m\u001b[38;5;241m.\u001b[39mlabel_map\n\u001b[1;32m      2\u001b[0m inv_map \u001b[38;5;241m=\u001b[39m {v: k \u001b[38;5;28;01mfor\u001b[39;00m k, v \u001b[38;5;129;01min\u001b[39;00m label_map\u001b[38;5;241m.\u001b[39mitems()}\n\u001b[1;32m      4\u001b[0m submission \u001b[38;5;241m=\u001b[39m pd\u001b[38;5;241m.\u001b[39mDataFrame({\n\u001b[1;32m      5\u001b[0m     \u001b[38;5;124m'\u001b[39m\u001b[38;5;124mSEQUENCE_ID\u001b[39m\u001b[38;5;124m'\u001b[39m: all_ids,\n\u001b[1;32m      6\u001b[0m     \u001b[38;5;124m'\u001b[39m\u001b[38;5;124mLABEL\u001b[39m\u001b[38;5;124m'\u001b[39m: [inv_map[i] \u001b[38;5;28;01mfor\u001b[39;00m i \u001b[38;5;129;01min\u001b[39;00m all_preds]\n\u001b[1;32m      7\u001b[0m })\n",
      "\u001b[0;31mNameError\u001b[0m: name 'train_ds' is not defined"
     ]
    }
   ],
   "source": [
    "label_map = train_ds.label_map\n",
    "inv_map = {v: k for k, v in label_map.items()}\n",
    "\n",
    "submission = pd.DataFrame({\n",
    "    'SEQUENCE_ID': all_ids,\n",
    "    'LABEL': [inv_map[i] for i in all_preds]\n",
    "})\n",
    "submission.to_csv(\"submission.csv\", index=False)\n",
    "submission.head()\n"
   ]
  }
 ],
 "metadata": {
  "kernelspec": {
   "display_name": "ML",
   "language": "python",
   "name": "python3"
  },
  "language_info": {
   "codemirror_mode": {
    "name": "ipython",
    "version": 3
   },
   "file_extension": ".py",
   "mimetype": "text/x-python",
   "name": "python",
   "nbconvert_exporter": "python",
   "pygments_lexer": "ipython3",
   "version": "3.12.3"
  }
 },
 "nbformat": 4,
 "nbformat_minor": 5
}
